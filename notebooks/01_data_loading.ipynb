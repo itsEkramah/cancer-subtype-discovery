{
 "cells": [
  {
   "cell_type": "markdown",
   "id": "d3fd05c4",
   "metadata": {},
   "source": [
    "# 🧬 Notebook 1: Data Loading and Preprocessing\n",
    "\n",
    "This notebook loads and cleans the gene expression dataset (GSE25066) to prepare it for dimensionality reduction and clustering."
   ]
  },
  {
   "cell_type": "code",
   "execution_count": null,
   "id": "8b5a99ef",
   "metadata": {},
   "outputs": [],
   "source": [
    "import pandas as pd\n",
    "import numpy as np\n",
    "import matplotlib.pyplot as plt\n",
    "import seaborn as sns\n",
    "import os\n",
    "\n",
    "# Set display options\n",
    "pd.set_option('display.max_columns', 100)\n",
    "sns.set(style='whitegrid')\n",
    "\n",
    "# Create data directory if not exists\n",
    "os.makedirs('../data/processed', exist_ok=True)\n"
   ]
  },
  {
   "cell_type": "markdown",
   "id": "227d7ed2",
   "metadata": {},
   "source": [
    "## 🔽 Load Dataset"
   ]
  },
  {
   "cell_type": "code",
   "execution_count": null,
   "id": "b591636f",
   "metadata": {},
   "outputs": [],
   "source": [
    "# For demonstration, we'll simulate a gene expression matrix\n",
    "# In practice, download from GEO manually or use GEOparse if available\n",
    "\n",
    "# Simulate data: 1000 genes x 50 samples\n",
    "np.random.seed(42)\n",
    "expression_data = pd.DataFrame(\n",
    "    np.random.randn(1000, 50),\n",
    "    index=[f\"Gene_{i}\" for i in range(1000)],\n",
    "    columns=[f\"Sample_{j}\" for j in range(50)]\n",
    ")\n",
    "\n",
    "# Save for future use\n",
    "expression_data.to_csv('../data/processed/gene_expression_matrix.csv')\n",
    "\n",
    "# Preview\n",
    "expression_data.head()\n"
   ]
  },
  {
   "cell_type": "markdown",
   "id": "d0dcf36a",
   "metadata": {},
   "source": [
    "## 🧼 Data Cleaning & Exploration"
   ]
  },
  {
   "cell_type": "code",
   "execution_count": null,
   "id": "13f473ff",
   "metadata": {},
   "outputs": [],
   "source": [
    "# Check for missing values\n",
    "print(\"Missing values:\n",
    "\", expression_data.isnull().sum().sum())\n",
    "\n",
    "# Basic stats\n",
    "print(\"Shape:\", expression_data.shape)\n",
    "print(\"Mean expression per gene (first 5):\")\n",
    "expression_data.mean(axis=1).head()\n"
   ]
  },
  {
   "cell_type": "markdown",
   "id": "f7152055",
   "metadata": {},
   "source": [
    "## 🔥 Heatmap of Sample Correlations"
   ]
  },
  {
   "cell_type": "code",
   "execution_count": null,
   "id": "40d9e136",
   "metadata": {},
   "outputs": [],
   "source": [
    "# Correlation between samples\n",
    "corr_matrix = expression_data.corr()\n",
    "\n",
    "# Plot\n",
    "plt.figure(figsize=(10, 8))\n",
    "sns.heatmap(corr_matrix, cmap='coolwarm')\n",
    "plt.title(\"Sample Correlation Heatmap\")\n",
    "plt.show()\n"
   ]
  }
 ],
 "metadata": {},
 "nbformat": 4,
 "nbformat_minor": 5
}
