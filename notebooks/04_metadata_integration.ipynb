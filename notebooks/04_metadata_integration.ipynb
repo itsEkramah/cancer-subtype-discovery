{
 "cells": [
  {
   "cell_type": "markdown",
   "id": "0e672ea5",
   "metadata": {},
   "source": [
    "# 🧾 Notebook 4: Metadata Integration & Cluster Evaluation\n",
    "\n",
    "This notebook integrates sample metadata (e.g., subtype labels, clinical traits) and compares them to discovered clusters."
   ]
  },
  {
   "cell_type": "code",
   "execution_count": null,
   "id": "2ed7518e",
   "metadata": {},
   "outputs": [],
   "source": [
    "import pandas as pd\n",
    "import seaborn as sns\n",
    "import matplotlib.pyplot as plt\n",
    "from sklearn.metrics import adjusted_rand_score, confusion_matrix\n",
    "\n",
    "# Load PCA + cluster labels\n",
    "pca_df = pd.read_csv('../results/tables/pca_with_clusters.csv', index_col=0)\n",
    "\n",
    "# Simulated metadata for demo purposes\n",
    "# Real datasets can load metadata using GEOparse or provided clinical files\n",
    "metadata = pd.DataFrame({\n",
    "    \"Sample\": pca_df.index,\n",
    "    \"Subtype\": [\"LuminalA\", \"LuminalB\", \"HER2\", \"Basal\"] * 12 + [\"Normal\", \"LuminalA\"],\n",
    "})\n",
    "metadata.set_index(\"Sample\", inplace=True)\n",
    "\n",
    "# Merge metadata with cluster labels\n",
    "merged = pca_df.join(metadata)\n",
    "merged.head()\n"
   ]
  },
  {
   "cell_type": "markdown",
   "id": "80ac3509",
   "metadata": {},
   "source": [
    "## 🔍 Visualize Clusters vs. Known Subtypes"
   ]
  },
  {
   "cell_type": "code",
   "execution_count": null,
   "id": "d6570312",
   "metadata": {},
   "outputs": [],
   "source": [
    "plt.figure(figsize=(8,6))\n",
    "sns.scatterplot(data=merged, x=\"PC1\", y=\"PC2\", hue=\"Subtype\", style=\"KMeans_Label\", palette=\"Set1\")\n",
    "plt.title(\"Discovered Clusters vs Known Subtypes\")\n",
    "plt.grid(True)\n",
    "plt.show()\n"
   ]
  },
  {
   "cell_type": "markdown",
   "id": "35d13ffa",
   "metadata": {},
   "source": [
    "## 📊 Clustering Evaluation"
   ]
  },
  {
   "cell_type": "code",
   "execution_count": null,
   "id": "991f0623",
   "metadata": {},
   "outputs": [],
   "source": [
    "# Encode subtypes numerically for ARI\n",
    "subtype_codes = merged[\"Subtype\"].astype(\"category\").cat.codes\n",
    "cluster_labels = merged[\"KMeans_Label\"]\n",
    "\n",
    "# Adjusted Rand Index\n",
    "ari = adjusted_rand_score(subtype_codes, cluster_labels)\n",
    "print(\"Adjusted Rand Index (KMeans vs Subtypes):\", round(ari, 3))\n",
    "\n",
    "# Confusion matrix\n",
    "cm = confusion_matrix(subtype_codes, cluster_labels)\n",
    "print(\"Confusion Matrix:\n",
    "\", cm)\n"
   ]
  },
  {
   "cell_type": "code",
   "execution_count": null,
   "id": "051709c5",
   "metadata": {},
   "outputs": [],
   "source": [
    "# Save merged file\n",
    "merged.to_csv(\"../results/tables/merged_with_metadata.csv\")\n"
   ]
  }
 ],
 "metadata": {},
 "nbformat": 4,
 "nbformat_minor": 5
}
