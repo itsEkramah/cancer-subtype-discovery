{
 "cells": [
  {
   "cell_type": "markdown",
   "id": "f2382d8d",
   "metadata": {},
   "source": [
    "# 🧩 Notebook 3: Clustering and Subtype Discovery\n",
    "\n",
    "This notebook applies clustering algorithms (K-Means, Hierarchical, DBSCAN) to reduced gene expression data to discover cancer subtypes."
   ]
  },
  {
   "cell_type": "code",
   "execution_count": null,
   "id": "e66fd340",
   "metadata": {},
   "outputs": [],
   "source": [
    "import pandas as pd\n",
    "import numpy as np\n",
    "import matplotlib.pyplot as plt\n",
    "import seaborn as sns\n",
    "from sklearn.cluster import KMeans, DBSCAN, AgglomerativeClustering\n",
    "from sklearn.metrics import silhouette_score\n",
    "from scipy.cluster.hierarchy import dendrogram, linkage\n",
    "\n",
    "# Load previous results\n",
    "pca_df = pd.read_csv('../results/tables/pca_result.csv') if os.path.exists('../results/tables/pca_result.csv') else None\n",
    "tsne_df = pd.read_csv('../results/tables/tsne_result.csv') if os.path.exists('../results/tables/tsne_result.csv') else None\n",
    "umap_df = pd.read_csv('../results/tables/umap_result.csv') if os.path.exists('../results/tables/umap_result.csv') else None\n",
    "\n",
    "# For demo: reload PCA from Notebook 2 manually\n",
    "from sklearn.decomposition import PCA\n",
    "expression_data = pd.read_csv('../data/processed/gene_expression_matrix.csv', index_col=0)\n",
    "data_t = expression_data.T\n",
    "pca = PCA(n_components=2)\n",
    "pca_result = pca.fit_transform(data_t)\n",
    "pca_df = pd.DataFrame(data=pca_result, columns=[\"PC1\", \"PC2\"])\n"
   ]
  },
  {
   "cell_type": "markdown",
   "id": "7b077dd9",
   "metadata": {},
   "source": [
    "## 🎯 K-Means Clustering"
   ]
  },
  {
   "cell_type": "code",
   "execution_count": null,
   "id": "02f64b76",
   "metadata": {},
   "outputs": [],
   "source": [
    "kmeans = KMeans(n_clusters=3, random_state=42)\n",
    "pca_df['KMeans_Label'] = kmeans.fit_predict(pca_df[[\"PC1\", \"PC2\"]])\n",
    "score = silhouette_score(pca_df[[\"PC1\", \"PC2\"]], pca_df[\"KMeans_Label\"])\n",
    "print(\"Silhouette Score (KMeans):\", score)\n",
    "\n",
    "# Plot\n",
    "plt.figure(figsize=(8,6))\n",
    "sns.scatterplot(data=pca_df, x=\"PC1\", y=\"PC2\", hue=\"KMeans_Label\", palette=\"Set2\")\n",
    "plt.title(\"KMeans Clustering (PCA space)\")\n",
    "plt.grid(True)\n",
    "plt.show()\n"
   ]
  },
  {
   "cell_type": "markdown",
   "id": "38646f56",
   "metadata": {},
   "source": [
    "## 🪜 Hierarchical Clustering (Dendrogram)"
   ]
  },
  {
   "cell_type": "code",
   "execution_count": null,
   "id": "c5bd358e",
   "metadata": {},
   "outputs": [],
   "source": [
    "linkage_matrix = linkage(pca_df[[\"PC1\", \"PC2\"]], method='ward')\n",
    "\n",
    "# Plot dendrogram\n",
    "plt.figure(figsize=(10, 5))\n",
    "dendrogram(linkage_matrix)\n",
    "plt.title(\"Hierarchical Clustering Dendrogram\")\n",
    "plt.xlabel(\"Sample Index\")\n",
    "plt.ylabel(\"Distance\")\n",
    "plt.show()\n"
   ]
  },
  {
   "cell_type": "markdown",
   "id": "ea93ee3b",
   "metadata": {},
   "source": [
    "## 🌀 DBSCAN Clustering"
   ]
  },
  {
   "cell_type": "code",
   "execution_count": null,
   "id": "4c517a9a",
   "metadata": {},
   "outputs": [],
   "source": [
    "db = DBSCAN(eps=1.5, min_samples=3)\n",
    "pca_df['DBSCAN_Label'] = db.fit_predict(pca_df[[\"PC1\", \"PC2\"]])\n",
    "\n",
    "# Plot\n",
    "plt.figure(figsize=(8,6))\n",
    "sns.scatterplot(data=pca_df, x=\"PC1\", y=\"PC2\", hue=\"DBSCAN_Label\", palette=\"tab10\")\n",
    "plt.title(\"DBSCAN Clustering (PCA space)\")\n",
    "plt.grid(True)\n",
    "plt.show()\n"
   ]
  },
  {
   "cell_type": "code",
   "execution_count": null,
   "id": "818f2b8d",
   "metadata": {},
   "outputs": [],
   "source": [
    "# Save result\n",
    "pca_df.to_csv('../results/tables/pca_with_clusters.csv')\n"
   ]
  }
 ],
 "metadata": {},
 "nbformat": 4,
 "nbformat_minor": 5
}
