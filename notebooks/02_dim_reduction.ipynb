{
 "cells": [
  {
   "cell_type": "markdown",
   "id": "2e88c000",
   "metadata": {},
   "source": [
    "# 📉 Notebook 2: Dimensionality Reduction\n",
    "\n",
    "This notebook performs PCA, t-SNE, and UMAP on the gene expression matrix to reduce dimensionality and visualize sample-level clustering."
   ]
  },
  {
   "cell_type": "code",
   "execution_count": null,
   "id": "f4e027ed",
   "metadata": {},
   "outputs": [],
   "source": [
    "import pandas as pd\n",
    "import numpy as np\n",
    "import matplotlib.pyplot as plt\n",
    "import seaborn as sns\n",
    "from sklearn.decomposition import PCA\n",
    "from sklearn.manifold import TSNE\n",
    "import umap\n",
    "\n",
    "# Load processed data\n",
    "expression_data = pd.read_csv('../data/processed/gene_expression_matrix.csv', index_col=0)\n",
    "\n",
    "# Transpose: samples as rows\n",
    "data_t = expression_data.T\n",
    "print(\"Shape:\", data_t.shape)\n"
   ]
  },
  {
   "cell_type": "markdown",
   "id": "81daa73e",
   "metadata": {},
   "source": [
    "## 🧪 Principal Component Analysis (PCA)"
   ]
  },
  {
   "cell_type": "code",
   "execution_count": null,
   "id": "dcf170bb",
   "metadata": {},
   "outputs": [],
   "source": [
    "pca = PCA(n_components=2)\n",
    "pca_result = pca.fit_transform(data_t)\n",
    "\n",
    "# Create DataFrame\n",
    "pca_df = pd.DataFrame(data=pca_result, columns=[\"PC1\", \"PC2\"])\n",
    "pca_df[\"Sample\"] = data_t.index\n",
    "\n",
    "# Plot\n",
    "plt.figure(figsize=(8,6))\n",
    "sns.scatterplot(data=pca_df, x=\"PC1\", y=\"PC2\")\n",
    "plt.title(\"PCA: First Two Principal Components\")\n",
    "plt.xlabel(f\"PC1 ({pca.explained_variance_ratio_[0]*100:.1f}%)\")\n",
    "plt.ylabel(f\"PC2 ({pca.explained_variance_ratio_[1]*100:.1f}%)\")\n",
    "plt.grid(True)\n",
    "plt.show()\n"
   ]
  },
  {
   "cell_type": "markdown",
   "id": "22f06e5d",
   "metadata": {},
   "source": [
    "## 🔁 t-Distributed Stochastic Neighbor Embedding (t-SNE)"
   ]
  },
  {
   "cell_type": "code",
   "execution_count": null,
   "id": "01b9609e",
   "metadata": {},
   "outputs": [],
   "source": [
    "tsne = TSNE(n_components=2, perplexity=10, random_state=42)\n",
    "tsne_result = tsne.fit_transform(data_t)\n",
    "\n",
    "# Create DataFrame\n",
    "tsne_df = pd.DataFrame(data=tsne_result, columns=[\"tSNE1\", \"tSNE2\"])\n",
    "tsne_df[\"Sample\"] = data_t.index\n",
    "\n",
    "# Plot\n",
    "plt.figure(figsize=(8,6))\n",
    "sns.scatterplot(data=tsne_df, x=\"tSNE1\", y=\"tSNE2\")\n",
    "plt.title(\"t-SNE Visualization of Samples\")\n",
    "plt.grid(True)\n",
    "plt.show()\n"
   ]
  },
  {
   "cell_type": "markdown",
   "id": "8b217dd1",
   "metadata": {},
   "source": [
    "## 🔀 Uniform Manifold Approximation and Projection (UMAP)"
   ]
  },
  {
   "cell_type": "code",
   "execution_count": null,
   "id": "45697d37",
   "metadata": {},
   "outputs": [],
   "source": [
    "reducer = umap.UMAP(random_state=42)\n",
    "umap_result = reducer.fit_transform(data_t)\n",
    "\n",
    "# Create DataFrame\n",
    "umap_df = pd.DataFrame(data=umap_result, columns=[\"UMAP1\", \"UMAP2\"])\n",
    "umap_df[\"Sample\"] = data_t.index\n",
    "\n",
    "# Plot\n",
    "plt.figure(figsize=(8,6))\n",
    "sns.scatterplot(data=umap_df, x=\"UMAP1\", y=\"UMAP2\")\n",
    "plt.title(\"UMAP Visualization of Samples\")\n",
    "plt.grid(True)\n",
    "plt.show()\n"
   ]
  }
 ],
 "metadata": {},
 "nbformat": 4,
 "nbformat_minor": 5
}
